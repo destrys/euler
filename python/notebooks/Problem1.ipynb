{
 "cells": [
  {
   "cell_type": "markdown",
   "metadata": {},
   "source": [
    "# [Problem 1](https://projecteuler.net/problem=1)\n",
    "---\n",
    "If we list all the natural numbers below 10 that are multiples of 3 or 5, we get 3, 5, 6 and 9. The sum of these multiples is 23.  \n",
    "Find the sum of all the multiples of 3 or 5 below 1000.\n",
    "\n",
    "## Brute Force\n",
    "---"
   ]
  },
  {
   "cell_type": "code",
   "execution_count": 1,
   "metadata": {},
   "outputs": [],
   "source": [
    "def natural3and5Brute(upper=1000):\n",
    "    output = 0\n",
    "    for i in range(1,upper):\n",
    "        if i % 3 == 0:\n",
    "            output += i\n",
    "            continue\n",
    "        if i % 5 == 0:\n",
    "            output += i\n",
    "            continue\n",
    "    return output"
   ]
  },
  {
   "cell_type": "code",
   "execution_count": 2,
   "metadata": {},
   "outputs": [
    {
     "data": {
      "text/plain": [
       "233168"
      ]
     },
     "execution_count": 2,
     "metadata": {},
     "output_type": "execute_result"
    }
   ],
   "source": [
    "natural3and5Brute()"
   ]
  },
  {
   "cell_type": "markdown",
   "metadata": {},
   "source": [
    "I believe this has O(n) complexity."
   ]
  },
  {
   "cell_type": "markdown",
   "metadata": {},
   "source": [
    "## More Elegant\n",
    "---\n",
    "If $n$ is the maximum value, the sum of the multiples can be represented as such:\n",
    "$$(3 + 6 + 9 + ... \\left \\lfloor{\\frac{x}{3}}\\right \\rfloor \\times 3 ) + (5 + 10 + 15 + ... + \\left \\lfloor{\\frac{x}{5}}\\right \\rfloor \\times 5) - (15 + 30 + 45 + ... + \\left \\lfloor{\\frac{x}{15}}\\right \\rfloor \\times 15)$$\n",
    "where $\\left \\lfloor{x}\\right \\rfloor$ is the floor function, returning the largest integer not greater than $x$The first term is the sum of natural numbers divisible by 3, the second term is the sum of numbers divisible by 5, and the last term are the terms that are repeated in the first two terms.We can rewrite this as\n",
    "$$3\\times(1+ 2 +3 +... \\left \\lfloor{\\frac{x}{3}}\\right \\rfloor) + 5 \\times (1 + 2 + 3 +... + \\left \\lfloor{\\frac{x}{5}}\\right \\rfloor) - 15 \\times (1 + 2 + 3 + ... + \\left \\lfloor{\\frac{x}{15}}\\right \\rfloor)$$\n",
    "Now each term contains a [sum of sequential integers](http://math.stackexchange.com/questions/2260/proof-for-formula-for-sum-of-sequence-123-ldotsn) which is easily calculated\n",
    "$$ 3 \\times \\frac{\\left \\lfloor{\\frac{n}{3}}\\right \\rfloor (\\left \\lfloor{\\frac{n}{3}}\\right \\rfloor +1)}{2} +\n",
    "5 \\times \\frac{\\left \\lfloor{\\frac{n}{5}}\\right \\rfloor (\\left \\lfloor{\\frac{n}{5}}\\right \\rfloor +1)}{2} -\n",
    "15 \\times \\frac{\\left \\lfloor{\\frac{n}{15}}\\right \\rfloor (\\left \\lfloor{\\frac{n}{15}}\\right \\rfloor +1)}{2}\n",
    "$$"
   ]
  },
  {
   "cell_type": "code",
   "execution_count": 3,
   "metadata": {},
   "outputs": [],
   "source": [
    "import math\n",
    "def natural3and5(upper=1000):\n",
    "    floor3 = math.floor((upper-1)/3)\n",
    "    floor5 = math.floor((upper-1)/5)\n",
    "    floor15 = math.floor((upper-1)/15)\n",
    "    output = 3 * (floor3 * (floor3+1))/2 + 5 * (floor5 * (floor5 + 1))/2 - 15 * (floor15 * (floor15 + 1))/2\n",
    "    return output"
   ]
  },
  {
   "cell_type": "markdown",
   "metadata": {},
   "source": [
    "I believe this has O(1) complexity."
   ]
  },
  {
   "cell_type": "code",
   "execution_count": 4,
   "metadata": {},
   "outputs": [
    {
     "data": {
      "text/plain": [
       "233168.0"
      ]
     },
     "execution_count": 4,
     "metadata": {},
     "output_type": "execute_result"
    }
   ],
   "source": [
    "natural3and5()"
   ]
  },
  {
   "cell_type": "code",
   "execution_count": 5,
   "metadata": {},
   "outputs": [
    {
     "data": {
      "text/plain": [
       "5829168.0"
      ]
     },
     "execution_count": 5,
     "metadata": {},
     "output_type": "execute_result"
    }
   ],
   "source": [
    "natural3and5(5000)"
   ]
  },
  {
   "cell_type": "markdown",
   "metadata": {},
   "source": [
    "## ToDo\n",
    "---\n",
    "1. Benchmarks\n",
    "2. Can you make the divisors inputs and calulate the common term?\n",
    "3. More than 2 Divisors?"
   ]
  },
  {
   "cell_type": "code",
   "execution_count": 6,
   "metadata": {},
   "outputs": [
    {
     "name": "stdout",
     "output_type": "stream",
     "text": [
      "913 ns ± 40.3 ns per loop (mean ± std. dev. of 7 runs, 1000000 loops each)\n",
      "1.28 µs ± 27.6 ns per loop (mean ± std. dev. of 7 runs, 1000000 loops each)\n",
      "940 ns ± 26.4 ns per loop (mean ± std. dev. of 7 runs, 1000000 loops each)\n",
      "10.2 µs ± 562 ns per loop (mean ± std. dev. of 7 runs, 100000 loops each)\n",
      "1.04 µs ± 47.8 ns per loop (mean ± std. dev. of 7 runs, 1000000 loops each)\n",
      "113 µs ± 5.51 µs per loop (mean ± std. dev. of 7 runs, 10000 loops each)\n",
      "1.1 µs ± 39.5 ns per loop (mean ± std. dev. of 7 runs, 1000000 loops each)\n",
      "1.1 ms ± 40.6 µs per loop (mean ± std. dev. of 7 runs, 1000 loops each)\n"
     ]
    }
   ],
   "source": [
    "elegant = []\n",
    "brute = []\n",
    "for i in [10**x for x in range(1,5)]:\n",
    "    tmp = %timeit -o natural3and5(i)\n",
    "    elegant.append(tmp.all_runs[0]/tmp.loops)\n",
    "    tmp = %timeit -o natural3and5Brute(i)\n",
    "    brute.append(tmp.all_runs[0]/tmp.loops)"
   ]
  },
  {
   "cell_type": "code",
   "execution_count": 7,
   "metadata": {},
   "outputs": [
    {
     "data": {
      "text/plain": [
       "[9.807205490069464e-07,\n",
       " 9.883321441011504e-07,\n",
       " 1.097566838026978e-06,\n",
       " 1.1444070260040461e-06]"
      ]
     },
     "execution_count": 7,
     "metadata": {},
     "output_type": "execute_result"
    }
   ],
   "source": [
    "elegant"
   ]
  },
  {
   "cell_type": "code",
   "execution_count": 8,
   "metadata": {},
   "outputs": [
    {
     "data": {
      "text/plain": [
       "[1.3289846879197284e-06,\n",
       " 1.1241951299598441e-05,\n",
       " 0.00012370106760645284,\n",
       " 0.0011370176250347867]"
      ]
     },
     "execution_count": 8,
     "metadata": {},
     "output_type": "execute_result"
    }
   ],
   "source": [
    "brute"
   ]
  },
  {
   "cell_type": "code",
   "execution_count": 9,
   "metadata": {},
   "outputs": [],
   "source": [
    "import matplotlib.pyplot as plt\n",
    "%matplotlib inline"
   ]
  },
  {
   "cell_type": "code",
   "execution_count": 10,
   "metadata": {},
   "outputs": [
    {
     "data": {
      "image/png": "[encoded data removed]",
      "text/plain": [
       "<matplotlib.figure.Figure at 0x10753dfd0>"
      ]
     },
     "metadata": {},
     "output_type": "display_data"
    }
   ],
   "source": [
    "y = [10**x for x in range(1,5)]\n",
    "\n",
    "# Create plot\n",
    "fig = plt.subplot()\n",
    "fig.loglog(y,elegant,'yo-',linewidth=2)\n",
    "fig.loglog(y,brute,'ro-',linewidth=2)\n",
    "\n",
    "# Label it and make it pretty\n",
    "myfont = {'family' : 'Times New Roman',\n",
    "        'weight' : 'bold',\n",
    "        'size'   : 22}\n",
    "\n",
    "fig.set_xlabel('n', **myfont)\n",
    "fig.set_ylabel('time (seconds)',**myfont)\n",
    "fig.tick_params(axis='both',which='both',labelsize=20,width=2)\n",
    "[fig.spines[x].set_linewidth(2) for x in fig.spines]\n",
    "\n",
    "#Show it\n",
    "plt.show()\n",
    "\n"
   ]
  },
  {
   "cell_type": "markdown",
   "metadata": {},
   "source": [
    "So it looks like the brute force is linear and the elegant is constant(ish)"
   ]
  }
 ],
 "metadata": {
  "kernelspec": {
   "display_name": "Python 3",
   "language": "python",
   "name": "python3"
  },
  "language_info": {
   "codemirror_mode": {
    "name": "ipython",
    "version": 3
   },
   "file_extension": ".py",
   "mimetype": "text/x-python",
   "name": "python",
   "nbconvert_exporter": "python",
   "pygments_lexer": "ipython3",
   "version": "3.6.2"
  }
 },
 "nbformat": 4,
 "nbformat_minor": 1
}
