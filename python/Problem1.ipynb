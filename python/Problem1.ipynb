{
 "cells": [
  {
   "cell_type": "markdown",
   "metadata": {},
   "source": [
    "# [Problem 1](https://projecteuler.net/problem=1)\n",
    "---\n",
    "If we list all the natural numbers below 10 that are multiples of 3 or 5, we get 3, 5, 6 and 9. The sum of these multiples is 23.  \n",
    "Find the sum of all the multiples of 3 or 5 below 1000.\n",
    "\n",
    "## Brute Force\n",
    "---"
   ]
  },
  {
   "cell_type": "code",
   "execution_count": 9,
   "metadata": {
    "collapsed": false
   },
   "outputs": [],
   "source": [
    "def natural3and5Brute(upper=1000):\n",
    "    output = 0\n",
    "    for i in range(1,upper):\n",
    "        if i % 3 == 0:\n",
    "            output += i\n",
    "            continue\n",
    "        if i % 5 == 0:\n",
    "            output += i\n",
    "            continue\n",
    "    return output"
   ]
  },
  {
   "cell_type": "code",
   "execution_count": 10,
   "metadata": {
    "collapsed": false
   },
   "outputs": [
    {
     "data": {
      "text/plain": [
       "233168"
      ]
     },
     "execution_count": 10,
     "metadata": {},
     "output_type": "execute_result"
    }
   ],
   "source": [
    "natural3and5Brute()"
   ]
  },
  {
   "cell_type": "markdown",
   "metadata": {},
   "source": [
    "## More Elegant\n",
    "---\n",
    "If $n$ is the maximum value, the sum of the multiples can be represented as such:\n",
    "$$(3 + 6 + 9 + ... \\left \\lfloor{\\frac{x}{3}}\\right \\rfloor \\times 3 ) + (5 + 10 + 15 + ... + \\left \\lfloor{\\frac{x}{5}}\\right \\rfloor \\times 5) - (15 + 30 + 45 + ... + \\left \\lfloor{\\frac{x}{15}}\\right \\rfloor \\times 15)$$\n",
    "where $\\left \\lfloor{x}\\right \\rfloor$ is the floor function, returning the largest integer not greater than $x$The first term is the sum of natural numbers divisible by 3, the second term is the sum of numbers divisible by 5, and the last term are the terms that are repeated in the first two terms.We can rewrite this as\n",
    "$$3\\times(1+ 2 +3 +... \\left \\lfloor{\\frac{x}{3}}\\right \\rfloor) + 5 \\times (1 + 2 + 3 +... + \\left \\lfloor{\\frac{x}{5}}\\right \\rfloor) - 15 \\times (1 + 2 + 3 + ... + \\left \\lfloor{\\frac{x}{15}}\\right \\rfloor)$$\n",
    "Now each term contains a [sum of sequential integers](http://math.stackexchange.com/questions/2260/proof-for-formula-for-sum-of-sequence-123-ldotsn) which is easily calculated\n",
    "$$ 3 \\times \\frac{\\left \\lfloor{\\frac{n}{3}}\\right \\rfloor (\\left \\lfloor{\\frac{n}{3}}\\right \\rfloor +1)}{2} +\n",
    "5 \\times \\frac{\\left \\lfloor{\\frac{n}{5}}\\right \\rfloor (\\left \\lfloor{\\frac{n}{5}}\\right \\rfloor +1)}{2} -\n",
    "15 \\times \\frac{\\left \\lfloor{\\frac{n}{15}}\\right \\rfloor (\\left \\lfloor{\\frac{n}{15}}\\right \\rfloor +1)}{2}\n",
    "$$"
   ]
  },
  {
   "cell_type": "code",
   "execution_count": 22,
   "metadata": {
    "collapsed": true
   },
   "outputs": [],
   "source": [
    "import math\n",
    "def natural3and5(upper=1000):\n",
    "    floor3 = math.floor((upper-1)/3)\n",
    "    floor5 = math.floor((upper-1)/5)\n",
    "    floor15 = math.floor((upper-1)/15)\n",
    "    output = 3 * (floor3 * (floor3+1))/2 + 5 * (floor5 * (floor5 + 1))/2 - 15 * (floor15 * (floor15 + 1))/2\n",
    "    return output"
   ]
  },
  {
   "cell_type": "code",
   "execution_count": 23,
   "metadata": {
    "collapsed": false
   },
   "outputs": [
    {
     "data": {
      "text/plain": [
       "233168.0"
      ]
     },
     "execution_count": 23,
     "metadata": {},
     "output_type": "execute_result"
    }
   ],
   "source": [
    "natural3and5()"
   ]
  },
  {
   "cell_type": "code",
   "execution_count": 24,
   "metadata": {
    "collapsed": false
   },
   "outputs": [
    {
     "data": {
      "text/plain": [
       "5829168.0"
      ]
     },
     "execution_count": 24,
     "metadata": {},
     "output_type": "execute_result"
    }
   ],
   "source": [
    "natural3and5(5000)"
   ]
  },
  {
   "cell_type": "markdown",
   "metadata": {},
   "source": [
    "## ToDo\n",
    "---\n",
    "1. Benchmarks\n",
    "2. Can you make the divisors inputs and calulate the common term?\n",
    "3. More than 2 Divisors?"
   ]
  }
 ],
 "metadata": {
  "kernelspec": {
   "display_name": "Python 3",
   "language": "python",
   "name": "python3"
  },
  "language_info": {
   "codemirror_mode": {
    "name": "ipython",
    "version": 3
   },
   "file_extension": ".py",
   "mimetype": "text/x-python",
   "name": "python",
   "nbconvert_exporter": "python",
   "pygments_lexer": "ipython3",
   "version": "3.4.2"
  }
 },
 "nbformat": 4,
 "nbformat_minor": 0
}
