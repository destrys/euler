{
 "cells": [
  {
   "cell_type": "markdown",
   "metadata": {},
   "source": [
    "# [Problem 1](https://projecteuler.net/problem=1)\n",
    "---\n",
    "If we list all the natural numbers below 10 that are multiples of 3 or 5, we get 3, 5, 6 and 9. The sum of these multiples is 23.  \n",
    "Find the sum of all the multiples of 3 or 5 below 1000.\n",
    "\n",
    "## Brute Force\n",
    "---"
   ]
  },
  {
   "cell_type": "code",
   "execution_count": 9,
   "metadata": {
    "collapsed": false
   },
   "outputs": [],
   "source": [
    "def natural3and5Brute(upper=1000):\n",
    "    output = 0\n",
    "    for i in range(1,upper):\n",
    "        if i % 3 == 0:\n",
    "            output += i\n",
    "            continue\n",
    "        if i % 5 == 0:\n",
    "            output += i\n",
    "            continue\n",
    "    return output"
   ]
  },
  {
   "cell_type": "code",
   "execution_count": 10,
   "metadata": {
    "collapsed": false
   },
   "outputs": [
    {
     "data": {
      "text/plain": [
       "233168"
      ]
     },
     "execution_count": 10,
     "metadata": {},
     "output_type": "execute_result"
    }
   ],
   "source": [
    "natural3and5Brute()"
   ]
  },
  {
   "cell_type": "markdown",
   "metadata": {},
   "source": [
    "## More Elegant\n",
    "---\n",
    "Here's the idea, if $n$ is the maximum value, the sum of the multiples can be represented as such:\n",
    "$$(3 + 6 + 9 + ...) + (5 + 10 + 15 + ...) - (15 + 30 + 45)$$"
   ]
  },
  {
   "cell_type": "raw",
   "metadata": {},
   "source": []
  }
 ],
 "metadata": {
  "kernelspec": {
   "display_name": "Python 3",
   "language": "python",
   "name": "python3"
  },
  "language_info": {
   "codemirror_mode": {
    "name": "ipython",
    "version": 3
   },
   "file_extension": ".py",
   "mimetype": "text/x-python",
   "name": "python",
   "nbconvert_exporter": "python",
   "pygments_lexer": "ipython3",
   "version": "3.4.2"
  }
 },
 "nbformat": 4,
 "nbformat_minor": 0
}
